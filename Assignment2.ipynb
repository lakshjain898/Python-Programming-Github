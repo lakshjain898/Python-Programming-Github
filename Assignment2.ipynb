{
  "nbformat": 4,
  "nbformat_minor": 0,
  "metadata": {
    "colab": {
      "provenance": []
    },
    "kernelspec": {
      "name": "python3",
      "display_name": "Python 3"
    },
    "language_info": {
      "name": "python"
    }
  },
  "cells": [
    {
      "cell_type": "markdown",
      "source": [
        "# **1) Basic Function Implementation**"
      ],
      "metadata": {
        "id": "LSG4uTpX-H2C"
      }
    },
    {
      "cell_type": "code",
      "source": [
        "def greet(name, greeting=\"Hello\"):\n",
        "  return greeting + \" \" + name + \"\\n\"\n",
        "\n",
        "while True:\n",
        "  name = input(\"Enter Name (press just enter to exit ): \")\n",
        "\n",
        "  if name == \"\":\n",
        "    break\n",
        "\n",
        "  greeting = input(\"Enter Greeting (optional | enter 'na' to skip): \")\n",
        "\n",
        "  if name.isalpha() and greeting.isalpha():\n",
        "    if greeting.lower() == \"na\":\n",
        "      print(greet(name))\n",
        "    else:\n",
        "      print(greet(name,greeting))\n",
        "  else:\n",
        "    print(\"Invalid Name or Greeting! Try Again.\\n\")"
      ],
      "metadata": {
        "colab": {
          "base_uri": "https://localhost:8080/"
        },
        "id": "Nc2hkXiF-Nfo",
        "outputId": "0e492cd2-2b48-46dc-cee7-93189a2f0922"
      },
      "execution_count": 6,
      "outputs": [
        {
          "name": "stdout",
          "output_type": "stream",
          "text": [
            "Enter Name (press just enter to exit ): Laksh\n",
            "Enter Greeting (optional | enter 'na' to skip): 12\n",
            "Invalid Name or Greeting! Try Again.\n",
            "\n",
            "Enter Name (press just enter to exit ): Laksh\n",
            "Enter Greeting (optional | enter 'na' to skip): NA\n",
            "Hello Laksh\n",
            "\n",
            "Enter Name (press just enter to exit ): Laksh\n",
            "Enter Greeting (optional | enter 'na' to skip): Namaste\n",
            "Namaste Laksh\n",
            "\n",
            "Enter Name (press just enter to exit ): \n"
          ]
        }
      ]
    },
    {
      "cell_type": "markdown",
      "source": [
        "# **2) Named Arguments**"
      ],
      "metadata": {
        "id": "mwDFxGMKAOOb"
      }
    },
    {
      "cell_type": "code",
      "source": [
        "def create_profile(*, name, age=18, city):\n",
        "    return f\"Profile Details:\\nName: {name}\\nAge: {age}\\nCity: {city}\"\n",
        "\n",
        "while True:\n",
        "    try:\n",
        "        n = input(\"Enter Name (or just press enter to exit): \")\n",
        "        if n == \"\":\n",
        "            break\n",
        "\n",
        "        age_input = input(\"Enter Age (optional): \")\n",
        "        if age_input:\n",
        "            a = int(age_input)\n",
        "        else:\n",
        "            a = 18\n",
        "\n",
        "        c = input(\"Enter City: \")\n",
        "\n",
        "\n",
        "        if n.isalpha() and c.isalpha():\n",
        "            print(create_profile(name=n, age=a, city=c))\n",
        "        else:\n",
        "            print(\"Please enter valid alphabetic characters for Name and City.\")\n",
        "\n",
        "    except ValueError:\n",
        "        print(\"Please enter a valid integer for Age.\")\n"
      ],
      "metadata": {
        "colab": {
          "base_uri": "https://localhost:8080/"
        },
        "id": "vPXOumfAAV16",
        "outputId": "3ddc0fe7-1fc2-4437-9c44-337f7b74e285"
      },
      "execution_count": 1,
      "outputs": [
        {
          "name": "stdout",
          "output_type": "stream",
          "text": [
            "Enter Name (or just press enter to exit): Laksh\n",
            "Enter Age (optional): 20\n",
            "Enter City: Delhi\n",
            "Profile Details:\n",
            "Name: Laksh\n",
            "Age: 20\n",
            "City: Delhi\n",
            "Enter Name (or just press enter to exit): Laksh\n",
            "Enter Age (optional): \n",
            "Enter City: Delhi\n",
            "Profile Details:\n",
            "Name: Laksh\n",
            "Age: 18\n",
            "City: Delhi\n",
            "Enter Name (or just press enter to exit): \n"
          ]
        }
      ]
    },
    {
      "cell_type": "markdown",
      "source": [
        "# **3) Using args and kwargs**"
      ],
      "metadata": {
        "id": "3DuDslgiD9va"
      }
    },
    {
      "cell_type": "code",
      "source": [
        "def sum_numbers(*args, **kwargs):\n",
        "    total_sum = sum(arg for arg in args if isinstance(arg, (int, float)))\n",
        "    return (total_sum, kwargs)\n",
        "\n",
        "def get_positional_args():\n",
        "    args = []\n",
        "    while True:\n",
        "        user_input = input(\"Enter a number (or just press enter to finish): \")\n",
        "        if user_input == \"\":\n",
        "            break\n",
        "        try:\n",
        "            number = float(user_input) if '.' in user_input else int(user_input)\n",
        "            args.append(number)\n",
        "        except ValueError:\n",
        "            print(\"Please enter a valid number.\")\n",
        "    return args\n",
        "\n",
        "def get_keyword_args():\n",
        "    kwargs = {}\n",
        "    while True:\n",
        "        key = input(\"Enter a keyword argument key (or just press enter to finish): \")\n",
        "        if key == \"\":\n",
        "            break\n",
        "        value = input(f\"Enter a value for '{key}': \")\n",
        "        kwargs[key] = value\n",
        "    return kwargs\n",
        "\n",
        "print(\"Input positional arguments:\")\n",
        "positional_args = get_positional_args()\n",
        "\n",
        "print(\"Input keyword arguments:\")\n",
        "keyword_args = get_keyword_args()\n",
        "print(sum_numbers(*positional_args, **keyword_args))\n"
      ],
      "metadata": {
        "colab": {
          "base_uri": "https://localhost:8080/"
        },
        "id": "nxeLZKCnEDxU",
        "outputId": "a19b7be0-bc3e-4b08-9924-978d2312fd58"
      },
      "execution_count": 2,
      "outputs": [
        {
          "output_type": "stream",
          "name": "stdout",
          "text": [
            "Input positional arguments:\n",
            "Enter a number (or just press enter to finish): 1\n",
            "Enter a number (or just press enter to finish): 2\n",
            "Enter a number (or just press enter to finish): 3\n",
            "Enter a number (or just press enter to finish): 4\n",
            "Enter a number (or just press enter to finish): 5\n",
            "Enter a number (or just press enter to finish): \n",
            "Input keyword arguments:\n",
            "Enter a keyword argument key (or just press enter to finish): x\n",
            "Enter a value for 'x': 10\n",
            "Enter a keyword argument key (or just press enter to finish): y\n",
            "Enter a value for 'y': 20\n",
            "Enter a keyword argument key (or just press enter to finish): z\n",
            "Enter a value for 'z': 30\n",
            "Enter a keyword argument key (or just press enter to finish): \n",
            "(15, {'x': '10', 'y': '20', 'z': '30'})\n"
          ]
        }
      ]
    },
    {
      "cell_type": "markdown",
      "source": [
        "# **4) Lambdas and Map**"
      ],
      "metadata": {
        "id": "hi9e8_ozH1Qo"
      }
    },
    {
      "cell_type": "code",
      "source": [
        "def square_list(input_list):\n",
        "  return list(map(lambda x:x**2,input_list))\n",
        "\n",
        "user_input = input(\"Enter numbers separated by spaces: \")\n",
        "input_list = list(map(int, user_input.split()))\n",
        "print(f\"Original List: {input_list}\")\n",
        "print(f\"Squared List: {square_list(input_list)}\")"
      ],
      "metadata": {
        "colab": {
          "base_uri": "https://localhost:8080/"
        },
        "id": "i4W47C-JH62E",
        "outputId": "3eae8e9f-81b8-46b6-f3a0-685aa5e70551"
      },
      "execution_count": 3,
      "outputs": [
        {
          "output_type": "stream",
          "name": "stdout",
          "text": [
            "Enter numbers separated by spaces: 1 2 3 4 5\n",
            "Original List: [1, 2, 3, 4, 5]\n",
            "Squared List: [1, 4, 9, 16, 25]\n"
          ]
        }
      ]
    },
    {
      "cell_type": "markdown",
      "source": [
        "# **5) Filters and Lambdas**"
      ],
      "metadata": {
        "id": "mtTw3DKnKoDp"
      }
    },
    {
      "cell_type": "code",
      "source": [
        "odd_numbers = lambda input_list: list(filter(lambda x: x%2 != 0, input_list))\n",
        "\n",
        "user_input = input(\"Enter numbers separated by spaces: \")\n",
        "input_list = list(map(int, user_input.split()))\n",
        "print(f\"Original List: {input_list}\")\n",
        "print(f\"Odd Numbers: {odd_numbers(input_list)}\")"
      ],
      "metadata": {
        "colab": {
          "base_uri": "https://localhost:8080/"
        },
        "id": "fyf6wiDwKw_d",
        "outputId": "cea48082-e938-4992-9446-19cb8c1540c0"
      },
      "execution_count": 6,
      "outputs": [
        {
          "output_type": "stream",
          "name": "stdout",
          "text": [
            "Enter numbers separated by spaces: 1 3 5 6 8 7 10 13 17 16\n",
            "Original List: [1, 3, 5, 6, 8, 7, 10, 13, 17, 16]\n",
            "Odd Numbers: [1, 3, 5, 7, 13, 17]\n"
          ]
        }
      ]
    },
    {
      "cell_type": "markdown",
      "source": [
        "# **6) Basic List Comprehension**"
      ],
      "metadata": {
        "id": "5Sp4M0R3MXIW"
      }
    },
    {
      "cell_type": "code",
      "source": [
        "sqaure_list = lambda input_list: [x**2 for x in input_list]\n",
        "\n",
        "user_input = input(\"Enter numbers separated by spaces: \")\n",
        "input_list = list(map(int, user_input.split()))\n",
        "print(f\"Original List: {input_list}\")\n",
        "print(f\"Squared List: {square_list(input_list)}\")"
      ],
      "metadata": {
        "colab": {
          "base_uri": "https://localhost:8080/"
        },
        "id": "XmAvPxhjMa4B",
        "outputId": "2416c24f-2f4c-45bb-fa38-bbec3d02261b"
      },
      "execution_count": 7,
      "outputs": [
        {
          "output_type": "stream",
          "name": "stdout",
          "text": [
            "Enter numbers separated by spaces: 1 2 3 4 5 6 7 8 9 10\n",
            "Original List: [1, 2, 3, 4, 5, 6, 7, 8, 9, 10]\n",
            "Squared List: [1, 4, 9, 16, 25, 36, 49, 64, 81, 100]\n"
          ]
        }
      ]
    },
    {
      "cell_type": "markdown",
      "source": [
        "# **7) List Comprehension with Condition**"
      ],
      "metadata": {
        "id": "81NxxcxuOEsr"
      }
    },
    {
      "cell_type": "code",
      "source": [
        "[x for x in range(1,21) if x%2 == 0]"
      ],
      "metadata": {
        "colab": {
          "base_uri": "https://localhost:8080/"
        },
        "id": "dgBs4TVwOJvA",
        "outputId": "7cffa34e-6109-4287-8064-16967bb9650d"
      },
      "execution_count": 1,
      "outputs": [
        {
          "output_type": "execute_result",
          "data": {
            "text/plain": [
              "[2, 4, 6, 8, 10, 12, 14, 16, 18, 20]"
            ]
          },
          "metadata": {},
          "execution_count": 1
        }
      ]
    },
    {
      "cell_type": "markdown",
      "source": [
        "# **8) Using os and time Modules**"
      ],
      "metadata": {
        "id": "6AxN6HinOaxq"
      }
    },
    {
      "cell_type": "code",
      "source": [
        "import os\n",
        "import time\n",
        "\n",
        "def file_operations():\n",
        "    dir_name = 'test_folder'\n",
        "    os.makedirs(dir_name, exist_ok=True)\n",
        "    print(f\"Directory '{dir_name}' created.\")\n",
        "\n",
        "    time.sleep(3)\n",
        "\n",
        "    os.rmdir(dir_name)\n",
        "    print(f\"Directory '{dir_name}' deleted.\")\n",
        "\n",
        "file_operations()\n"
      ],
      "metadata": {
        "colab": {
          "base_uri": "https://localhost:8080/"
        },
        "id": "ZjMx17uQOeoH",
        "outputId": "3e206429-69a5-4b57-d33e-95df3826566b"
      },
      "execution_count": 2,
      "outputs": [
        {
          "output_type": "stream",
          "name": "stdout",
          "text": [
            "Directory 'test_folder' created.\n",
            "Directory 'test_folder' deleted.\n"
          ]
        }
      ]
    },
    {
      "cell_type": "markdown",
      "source": [
        "# **9) Importing Specific Functions**"
      ],
      "metadata": {
        "id": "KLgoyjDLD-UK"
      }
    },
    {
      "cell_type": "code",
      "source": [
        "from time import sleep as pause\n",
        "\n",
        "def loading(value):\n",
        "  print(value, end=\"\")\n",
        "  for i in range(3):\n",
        "    pause(1)\n",
        "    print(\".\", end=\"\")\n",
        "  print(\"\\n\")\n",
        "\n",
        "loading(\"Starting Program\")\n",
        "loading(\"Executing Code\")\n",
        "pause(2)\n",
        "print(\"Paused Execution\")\n",
        "loading(\"Ending Program\")"
      ],
      "metadata": {
        "colab": {
          "base_uri": "https://localhost:8080/"
        },
        "id": "hxMXAkWeEDEY",
        "outputId": "0faf8c6b-23d4-4554-ec50-92d00e66c806"
      },
      "execution_count": 8,
      "outputs": [
        {
          "output_type": "stream",
          "name": "stdout",
          "text": [
            "Starting Program...\n",
            "\n",
            "Executing Code...\n",
            "\n",
            "Paused Execution\n",
            "Ending Program...\n",
            "\n"
          ]
        }
      ]
    },
    {
      "cell_type": "markdown",
      "source": [
        "# **10) Recursive Function with args and kwargs (Flattening a List)**"
      ],
      "metadata": {
        "id": "AdzKqVd0KR_M"
      }
    },
    {
      "cell_type": "code",
      "source": [
        "def flatten_list(input_list):\n",
        "  new_list = []\n",
        "  for item in input_list:\n",
        "    if isinstance(item, list):\n",
        "      new_list.extend(flatten_list(item))\n",
        "    else:\n",
        "      new_list.append(item)\n",
        "  return new_list\n",
        "\n",
        "while True:\n",
        "  user_input = input(\"Enter a nested list (or press enter to exit): \")\n",
        "  if user_input == \"\":\n",
        "    break\n",
        "  else:\n",
        "    try:\n",
        "        nested_list = eval(user_input)\n",
        "\n",
        "        if isinstance(nested_list, list):\n",
        "            flat_list = flatten_list(nested_list)\n",
        "            print(\"Flattened List:\", flat_list)\n",
        "        else:\n",
        "            print(\"Please enter a valid list.\")\n",
        "    except (SyntaxError, NameError):\n",
        "        print(\"Invalid input. Please enter a properly formatted nested list.\")"
      ],
      "metadata": {
        "colab": {
          "base_uri": "https://localhost:8080/"
        },
        "id": "F6CvAb12KzD_",
        "outputId": "1cc8f59c-02c8-459f-cb54-7015e5b4ace5"
      },
      "execution_count": 1,
      "outputs": [
        {
          "name": "stdout",
          "output_type": "stream",
          "text": [
            "Enter a nested list (or press enter to exit): [12,[[20,12],[12,15]], [12,15]]\n",
            "Flattened List: [12, 20, 12, 12, 15, 12, 15]\n",
            "Enter a nested list (or press enter to exit): \n"
          ]
        }
      ]
    }
  ]
}